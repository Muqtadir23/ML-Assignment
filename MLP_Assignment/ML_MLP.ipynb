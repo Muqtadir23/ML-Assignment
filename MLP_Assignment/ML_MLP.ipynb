{
 "cells": [
  {
   "cell_type": "code",
   "execution_count": null,
   "metadata": {},
   "outputs": [],
   "source": [
    "\n"
   ]
  },
  {
   "cell_type": "code",
   "execution_count": 212,
   "metadata": {},
   "outputs": [],
   "source": [
    "def _csv(filena):\n",
    "    data = []\n",
    "    with open(filena, 'r') as file:\n",
    "        csv_reader = reader(file)\n",
    "        for k in csv_reader:\n",
    "            if not k:\n",
    "                continue\n",
    "            data.append(k)\n",
    "    return data\n",
    "data=_csv('data1.csv')\n"
   ]
  },
  {
   "cell_type": "code",
   "execution_count": 213,
   "metadata": {},
   "outputs": [
    {
     "name": "stdout",
     "output_type": "stream",
     "text": [
      "61\n",
      "193\n"
     ]
    }
   ],
   "source": [
    "print(len(data[0]))\n",
    "print(len(data))"
   ]
  },
  {
   "cell_type": "code",
   "execution_count": 200,
   "metadata": {},
   "outputs": [
    {
     "name": "stdout",
     "output_type": "stream",
     "text": [
      "['0.0453', '0.0523', '0.0843', '0.0689', '0.1183', '0.2583', '0.2156', '0.3481', '0.3337', '0.2872', '0.4918', '0.6552', '0.6919', '0.7797', '0.7464', '0.9444', '1', '0.8874', '0.8024', '0.7818', '0.5212', '0.4052', '0.3957', '0.3914', '0.325', '0.32', '0.3271', '0.2767', '0.4423', '0.2028', '0.3788', '0.2947', '0.1984', '0.2341', '0.1306', '0.4182', '0.3835', '0.1057', '0.184', '0.197', '0.1674', '0.0583', '0.1401', '0.1628', '0.0621', '0.0203', '0.053', '0.0742', '0.0409', '0.0061', '0.0125', '0.0084', '0.0089', '0.0048', '0.0094', '0.0191', '0.014', '0.0049', '0.0052', '0.0044', 'R']\n"
     ]
    }
   ],
   "source": [
    "print(data[0])"
   ]
  },
  {
   "cell_type": "code",
   "execution_count": 201,
   "metadata": {},
   "outputs": [],
   "source": [
    "def convert(data, col):\n",
    "    for k in data:\n",
    "        k[col] = float(k[col])\n",
    "\n",
    "def strconvert(data, col):\n",
    "    class_values = [row[col] for row in data]\n",
    "    uniqu = set(class_values)\n",
    "    l = {}\n",
    "    for i, value in enumerate(uniqu):\n",
    "        l[value] = i\n",
    "    for row in data:\n",
    "        row[col] = l[row[col]]\n",
    "    return l\n"
   ]
  },
  {
   "cell_type": "code",
   "execution_count": 202,
   "metadata": {},
   "outputs": [],
   "source": [
    "def split(data, k_folds):\n",
    "    dataset_split = []\n",
    "    dataset_cop = list(data)\n",
    "    fold_size = int(len(data) / k_folds)\n",
    "    for i in range(k_folds):\n",
    "        fold = []\n",
    "        while len(fold) < fold_size:\n",
    "            index = randrange(0, len(dataset_cop))\n",
    "            fold.append(dataset_cop.pop(index))\n",
    "        dataset_split.append(fold)\n",
    "    return dataset_split        \n",
    "\n",
    "def accuracy_metric(act, predicted):\n",
    "    correct = 0\n",
    "    for i in range(len(act)):\n",
    "        if act[i] == predicted[i]:\n",
    "            correct += 1\n",
    "    return correct / float(len(act)) * 100.0"
   ]
  },
  {
   "cell_type": "code",
   "execution_count": 203,
   "metadata": {},
   "outputs": [],
   "source": [
    "def evaluate(data, algorithm, k_folds, *args):\n",
    "    folds = split(data, k_folds)\n",
    "    scores = []\n",
    "    for fold in folds:\n",
    "        train_se = list(folds)\n",
    "        train_se.remove(fold) \n",
    "        train_se = sum(train_se, []) \n",
    "        test_se = list()\n",
    "        for row in fold:\n",
    "            row_cop = list(row)\n",
    "            test_se.append(row_cop)\n",
    "            row_cop[-1] = None\n",
    "        predicted = algorithm(train_se, test_se, *args)\n",
    "        actual = [row[-1] for row in fold]\n",
    "        accur = accuracy_metric(actual, predicted)\n",
    "        scores.append(accur)\n",
    "    return scores\n",
    "\n",
    "def predict(row, weights):\n",
    "    activ = weights[0]\n",
    "    for i in range(len(row)-1):\n",
    "        activ += weights[i + 1] * row[i]\n",
    "    return 1.0 if activ>= 0.0 else 0.0"
   ]
  },
  {
   "cell_type": "code",
   "execution_count": 204,
   "metadata": {},
   "outputs": [],
   "source": [
    "def train_weights(train, l_rate, n_epoch):\n",
    "    weights = [0.0 for i in range(len(train[0]))] \n",
    "    for epoch in range(n_epoch): \n",
    "        sum_ = 0.0\n",
    "        for row in train: \n",
    "            prediction = predict(row, weights)\n",
    "            error = row[-1] - prediction \n",
    "            sum_ += error**2 \n",
    "            weights[0] = weights[0] + l_rate * error\n",
    "            ans=weights\n",
    "            l=l_rate\n",
    "            e=error\n",
    "            roww=row\n",
    "            for i in range(len(roww)-1): \n",
    "                ans[i + 1] = ans[i + 1] + l * e * row[i]\n",
    "            weights=ans\n",
    "            l_rate=l\n",
    "            error=e\n",
    "        if sum_ == 0:\n",
    "            weights_zero.append(weights)\n",
    "    return weights\n",
    "        \n",
    "def perceptron(train, test, rate, epochs):\n",
    "    predictions = []\n",
    "    weight = train_weights(train, rate, epochs)    \n",
    "    for row in test:\n",
    "        p = predict(row, weight)\n",
    "        predictions.append(p)\n",
    "    return(predictions)"
   ]
  },
  {
   "cell_type": "code",
   "execution_count": 205,
   "metadata": {},
   "outputs": [
    {
     "name": "stdout",
     "output_type": "stream",
     "text": [
      "True value and Predicted Value\n",
      "0 0.0\n",
      "0 0.0\n",
      "0 0.0\n",
      "0 1.0\n",
      "0 0.0\n",
      "0 0.0\n",
      "0 0.0\n",
      "0 1.0\n",
      "0 0.0\n",
      "0 0.0\n",
      "0 0.0\n",
      "0 1.0\n",
      "0 0.0\n",
      "0 0.0\n",
      "0 0.0\n",
      "0 1.0\n",
      "0 1.0\n",
      "0 0.0\n",
      "0 1.0\n",
      "0 0.0\n",
      "0 0.0\n",
      "0 0.0\n",
      "0 0.0\n",
      "0 0.0\n",
      "0 0.0\n",
      "0 1.0\n",
      "0 0.0\n",
      "0 0.0\n",
      "0 0.0\n",
      "0 1.0\n",
      "0 0.0\n",
      "0 0.0\n",
      "0 0.0\n",
      "0 1.0\n",
      "0 0.0\n",
      "0 0.0\n",
      "0 0.0\n",
      "0 0.0\n",
      "0 0.0\n",
      "0 0.0\n",
      "0 0.0\n",
      "0 0.0\n",
      "0 0.0\n",
      "0 1.0\n",
      "0 1.0\n",
      "0 0.0\n",
      "0 1.0\n",
      "0 1.0\n",
      "0 0.0\n",
      "0 0.0\n",
      "0 0.0\n",
      "0 0.0\n",
      "0 0.0\n",
      "0 0.0\n",
      "0 0.0\n",
      "0 0.0\n",
      "0 0.0\n",
      "0 0.0\n",
      "0 0.0\n",
      "0 0.0\n",
      "0 0.0\n",
      "0 0.0\n",
      "0 0.0\n",
      "0 0.0\n",
      "0 0.0\n",
      "0 0.0\n",
      "0 0.0\n",
      "0 0.0\n",
      "0 0.0\n",
      "0 0.0\n",
      "0 0.0\n",
      "0 0.0\n",
      "0 0.0\n",
      "0 0.0\n",
      "0 0.0\n",
      "0 0.0\n",
      "0 0.0\n",
      "0 0.0\n",
      "0 0.0\n",
      "0 0.0\n",
      "0 1.0\n",
      "0 1.0\n",
      "0 0.0\n",
      "0 1.0\n",
      "0 0.0\n",
      "0 0.0\n",
      "0 0.0\n",
      "0 0.0\n",
      "0 0.0\n",
      "0 0.0\n",
      "0 0.0\n",
      "0 1.0\n",
      "0 0.0\n",
      "0 0.0\n",
      "0 0.0\n",
      "0 0.0\n",
      "1 1.0\n",
      "1 1.0\n",
      "1 0.0\n",
      "1 1.0\n",
      "1 0.0\n",
      "1 0.0\n",
      "1 0.0\n",
      "1 1.0\n",
      "1 0.0\n",
      "1 1.0\n",
      "1 0.0\n",
      "1 1.0\n",
      "1 1.0\n",
      "1 1.0\n",
      "1 1.0\n",
      "1 0.0\n",
      "1 1.0\n",
      "1 1.0\n",
      "1 1.0\n",
      "1 1.0\n",
      "1 1.0\n",
      "1 0.0\n",
      "1 1.0\n",
      "1 1.0\n",
      "1 1.0\n",
      "1 1.0\n",
      "1 1.0\n",
      "1 1.0\n",
      "1 1.0\n",
      "1 1.0\n",
      "1 1.0\n",
      "1 1.0\n",
      "1 1.0\n",
      "1 1.0\n",
      "1 0.0\n",
      "1 1.0\n",
      "1 1.0\n",
      "1 0.0\n",
      "1 1.0\n",
      "1 1.0\n",
      "1 1.0\n",
      "1 1.0\n",
      "1 1.0\n",
      "1 1.0\n",
      "1 1.0\n",
      "1 1.0\n",
      "1 1.0\n",
      "1 1.0\n",
      "1 1.0\n",
      "1 1.0\n",
      "1 1.0\n",
      "1 1.0\n",
      "1 1.0\n",
      "1 1.0\n",
      "1 1.0\n",
      "1 1.0\n",
      "1 1.0\n",
      "1 1.0\n",
      "1 1.0\n",
      "1 1.0\n",
      "1 1.0\n",
      "1 0.0\n",
      "1 0.0\n",
      "1 1.0\n",
      "1 1.0\n",
      "1 1.0\n",
      "1 0.0\n",
      "1 1.0\n",
      "1 1.0\n",
      "1 1.0\n",
      "1 0.0\n",
      "1 1.0\n",
      "1 1.0\n",
      "1 1.0\n",
      "1 1.0\n",
      "1 1.0\n",
      "1 1.0\n",
      "1 1.0\n",
      "1 1.0\n",
      "1 1.0\n",
      "1 0.0\n",
      "1 1.0\n",
      "1 1.0\n",
      "1 1.0\n",
      "1 1.0\n",
      "1 1.0\n",
      "1 1.0\n",
      "1 1.0\n",
      "1 1.0\n",
      "1 1.0\n",
      "1 1.0\n",
      "1 1.0\n",
      "1 1.0\n",
      "1 1.0\n",
      "1 1.0\n",
      "1 1.0\n",
      "1 1.0\n"
     ]
    }
   ],
   "source": [
    "\n",
    "filename = 'data1.csv'\n",
    "dataset = _csv(filename)\n",
    "for i in range(len(dataset[0])-1):\n",
    "    convert(dataset, i)\n",
    "strconvert(dataset, len(dataset[0])-1)\n",
    "divide = 2\n",
    "rate = 0.02\n",
    "epochs = 5000\n",
    "\n",
    "weights_zero = list()\n",
    "evaluate(dataset, perceptron, divide, rate, epochs)\n",
    "\n",
    "\n",
    "\n",
    "w_test = weights_zero[0]\n",
    "test=[]\n",
    "final=[]\n",
    "print('True value and Predicted Value')\n",
    "for i in range(0, 193):\n",
    "    print(dataset[i][60],predict(dataset[i], w_test))\n",
    "    test.append(dataset[i][60])\n",
    "    final.append(predict(dataset[i],w_test))\n"
   ]
  },
  {
   "cell_type": "code",
   "execution_count": 206,
   "metadata": {},
   "outputs": [],
   "source": [
    "def gen_confusion(test, predict):\n",
    "    conf = {'TruePos':0, 'TrueNeg':0, 'FalsPos':0, 'FalsNeg':0}\n",
    "    for i in range(len(predict)):\n",
    "        if test[i] == 1 and predict[i] == 1:\n",
    "            conf['TruePos']+=1\n",
    "        elif test[i] == 1 and predict[i] == 0:\n",
    "            conf['FalsNeg']+=1\n",
    "        elif test[i] == 0 and predict[i] == 1:\n",
    "            conf['FalsPos']+=1\n",
    "        else:\n",
    "            conf['TrueNeg']+=1\n",
    "    return confusion"
   ]
  },
  {
   "cell_type": "code",
   "execution_count": 207,
   "metadata": {},
   "outputs": [],
   "source": [
    "def show_confusion(test, predict):\n",
    "    data = {'Act Label': test, 'Pred Label': predict}\n",
    "    df1 = pd.DataFrame(data, columns=data.keys())\n",
    "    c_matrix = pd.crosstab(df1['Act Label'], df1['Pred Label'], rownames=['Actual'], colnames=['Predicted'])\n",
    "    sns.heatmap(c_matrix, annot=True)"
   ]
  },
  {
   "cell_type": "code",
   "execution_count": 208,
   "metadata": {},
   "outputs": [
    {
     "name": "stdout",
     "output_type": "stream",
     "text": [
      "{'TP': 82, 'TN': 78, 'FP': 18, 'FN': 15}\n"
     ]
    }
   ],
   "source": [
    "confusion = gen_confusion(test, final)\n",
    "print(confusion)"
   ]
  },
  {
   "cell_type": "code",
   "execution_count": 209,
   "metadata": {},
   "outputs": [
    {
     "data": {
      "image/png": "[encoded data removed]",
      "text/plain": [
       "<Figure size 432x288 with 2 Axes>"
      ]
     },
     "metadata": {
      "needs_background": "light"
     },
     "output_type": "display_data"
    }
   ],
   "source": [
    "import seaborn as sns\n",
    "show_confusion(test, final)"
   ]
  },
  {
   "cell_type": "code",
   "execution_count": 210,
   "metadata": {},
   "outputs": [],
   "source": [
    "def cal_(confusion):\n",
    "    a1 = (confusion['TP']+confusion['TN'])/sum(confusion.values())\n",
    "    print('accuracy\\n')\n",
    "    print(a1)\n",
    "    p1 = confusion['TP']/(confusion['TP']+confusion['FP'])\n",
    "    print('precision\\n')\n",
    "    print(p1)\n",
    "    r = confusion['TP']/(confusion['TP']+confusion['FN'])\n",
    "    print('recall\\n')\n",
    "    print(r)\n",
    "    f1 = 2*p1*r/(p1+r)\n",
    "    print('f1')\n",
    "    print(f1)\n",
    "    \n",
    "    "
   ]
  },
  {
   "cell_type": "code",
   "execution_count": 211,
   "metadata": {},
   "outputs": [
    {
     "name": "stdout",
     "output_type": "stream",
     "text": [
      "accuracy\n",
      "\n",
      "0.8290155440414507\n",
      "precision\n",
      "\n",
      "0.82\n",
      "recall\n",
      "\n",
      "0.845360824742268\n",
      "f1\n",
      "0.83248730964467\n"
     ]
    }
   ],
   "source": [
    "cal_(confusion)\n"
   ]
  },
  {
   "cell_type": "code",
   "execution_count": null,
   "metadata": {},
   "outputs": [],
   "source": []
  },
  {
   "cell_type": "code",
   "execution_count": null,
   "metadata": {},
   "outputs": [],
   "source": []
  }
 ],
 "metadata": {
  "kernelspec": {
   "display_name": "Python 3",
   "language": "python",
   "name": "python3"
  },
  "language_info": {
   "codemirror_mode": {
    "name": "ipython",
    "version": 3
   },
   "file_extension": ".py",
   "mimetype": "text/x-python",
   "name": "python",
   "nbconvert_exporter": "python",
   "pygments_lexer": "ipython3",
   "version": "3.7.4"
  }
 },
 "nbformat": 4,
 "nbformat_minor": 2
}
